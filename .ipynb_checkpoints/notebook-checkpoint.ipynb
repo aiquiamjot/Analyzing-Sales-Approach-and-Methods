{
 "cells": [
  {
   "cell_type": "markdown",
   "id": "2e5fd56e-591b-4aa3-bf75-ac186e22b738",
   "metadata": {},
   "source": [
    "## Business Goal\n",
    "\n",
    "Determine which is the most effective sales approach to market the new product line"
   ]
  },
  {
   "cell_type": "markdown",
   "id": "f73db721-cc42-4fed-9ee5-4b47bdbea96b",
   "metadata": {},
   "source": [
    "## Business Questions\n",
    "\n",
    "* How many customers were there for each approach?\n",
    "* What does the spread of the revenue look like overall? And for each method?\n",
    "* Was there any difference in revenue over time for each of the methods?\n",
    "* Based on the data, which method would you recommend we continue to use?\n",
    "    * Some of these methods take more time from the team so they may not be the best for us to use if the results are similar.\n",
    " \n",
    "**Determine if there are other differences between the customers in each group**"
   ]
  },
  {
   "cell_type": "code",
   "execution_count": 1,
   "id": "d5622487-346e-41b0-a62e-47e6dfa26fff",
   "metadata": {},
   "outputs": [],
   "source": [
    "import pandas as pd\n",
    "import numpy as np\n",
    "import matplotlib.pyplot as plt\n",
    "import seaborn as sns \n",
    "from datetime import datetime\n",
    "import pingouin as pg"
   ]
  },
  {
   "cell_type": "code",
   "execution_count": 2,
   "id": "9383f4ed-e352-4918-8356-6d3649353c31",
   "metadata": {},
   "outputs": [],
   "source": [
    "sns.set_style('darkgrid')\n",
    "sns.set_palette('bright')\n",
    "sns.set_context(\"notebook\")\n",
    "\n",
    "%matplotlib inline"
   ]
  },
  {
   "cell_type": "code",
   "execution_count": 3,
   "id": "3304b82a-5b62-48a3-930f-0407d739e30c",
   "metadata": {},
   "outputs": [
    {
     "data": {
      "text/html": [
       "<div>\n",
       "<style scoped>\n",
       "    .dataframe tbody tr th:only-of-type {\n",
       "        vertical-align: middle;\n",
       "    }\n",
       "\n",
       "    .dataframe tbody tr th {\n",
       "        vertical-align: top;\n",
       "    }\n",
       "\n",
       "    .dataframe thead th {\n",
       "        text-align: right;\n",
       "    }\n",
       "</style>\n",
       "<table border=\"1\" class=\"dataframe\">\n",
       "  <thead>\n",
       "    <tr style=\"text-align: right;\">\n",
       "      <th></th>\n",
       "      <th>week</th>\n",
       "      <th>sales_method</th>\n",
       "      <th>customer_id</th>\n",
       "      <th>nb_sold</th>\n",
       "      <th>revenue</th>\n",
       "      <th>years_as_customer</th>\n",
       "      <th>nb_site_visits</th>\n",
       "      <th>state</th>\n",
       "    </tr>\n",
       "  </thead>\n",
       "  <tbody>\n",
       "    <tr>\n",
       "      <th>0</th>\n",
       "      <td>2</td>\n",
       "      <td>Email</td>\n",
       "      <td>2e72d641-95ac-497b-bbf8-4861764a7097</td>\n",
       "      <td>10</td>\n",
       "      <td>NaN</td>\n",
       "      <td>0</td>\n",
       "      <td>24</td>\n",
       "      <td>Arizona</td>\n",
       "    </tr>\n",
       "    <tr>\n",
       "      <th>1</th>\n",
       "      <td>6</td>\n",
       "      <td>Email + Call</td>\n",
       "      <td>3998a98d-70f5-44f7-942e-789bb8ad2fe7</td>\n",
       "      <td>15</td>\n",
       "      <td>225.47</td>\n",
       "      <td>1</td>\n",
       "      <td>28</td>\n",
       "      <td>Kansas</td>\n",
       "    </tr>\n",
       "    <tr>\n",
       "      <th>2</th>\n",
       "      <td>5</td>\n",
       "      <td>Call</td>\n",
       "      <td>d1de9884-8059-4065-b10f-86eef57e4a44</td>\n",
       "      <td>11</td>\n",
       "      <td>52.55</td>\n",
       "      <td>6</td>\n",
       "      <td>26</td>\n",
       "      <td>Wisconsin</td>\n",
       "    </tr>\n",
       "    <tr>\n",
       "      <th>3</th>\n",
       "      <td>4</td>\n",
       "      <td>Email</td>\n",
       "      <td>78aa75a4-ffeb-4817-b1d0-2f030783c5d7</td>\n",
       "      <td>11</td>\n",
       "      <td>NaN</td>\n",
       "      <td>3</td>\n",
       "      <td>25</td>\n",
       "      <td>Indiana</td>\n",
       "    </tr>\n",
       "    <tr>\n",
       "      <th>4</th>\n",
       "      <td>3</td>\n",
       "      <td>Email</td>\n",
       "      <td>10e6d446-10a5-42e5-8210-1b5438f70922</td>\n",
       "      <td>9</td>\n",
       "      <td>90.49</td>\n",
       "      <td>0</td>\n",
       "      <td>28</td>\n",
       "      <td>Illinois</td>\n",
       "    </tr>\n",
       "    <tr>\n",
       "      <th>5</th>\n",
       "      <td>6</td>\n",
       "      <td>Call</td>\n",
       "      <td>6489e678-40f2-4fed-a48e-d0dff9c09205</td>\n",
       "      <td>13</td>\n",
       "      <td>65.01</td>\n",
       "      <td>10</td>\n",
       "      <td>24</td>\n",
       "      <td>Mississippi</td>\n",
       "    </tr>\n",
       "    <tr>\n",
       "      <th>6</th>\n",
       "      <td>4</td>\n",
       "      <td>Email</td>\n",
       "      <td>eb6bd5f1-f115-4e4b-80a6-5e67fcfbfb94</td>\n",
       "      <td>11</td>\n",
       "      <td>113.38</td>\n",
       "      <td>9</td>\n",
       "      <td>28</td>\n",
       "      <td>Georgia</td>\n",
       "    </tr>\n",
       "    <tr>\n",
       "      <th>7</th>\n",
       "      <td>1</td>\n",
       "      <td>Email</td>\n",
       "      <td>047df079-071b-4380-9012-2bfe9bce45d5</td>\n",
       "      <td>10</td>\n",
       "      <td>99.94</td>\n",
       "      <td>1</td>\n",
       "      <td>22</td>\n",
       "      <td>Oklahoma</td>\n",
       "    </tr>\n",
       "    <tr>\n",
       "      <th>8</th>\n",
       "      <td>5</td>\n",
       "      <td>Email</td>\n",
       "      <td>771586bd-7b64-40be-87df-afe884d2af9e</td>\n",
       "      <td>11</td>\n",
       "      <td>108.34</td>\n",
       "      <td>10</td>\n",
       "      <td>31</td>\n",
       "      <td>Massachusetts</td>\n",
       "    </tr>\n",
       "    <tr>\n",
       "      <th>9</th>\n",
       "      <td>5</td>\n",
       "      <td>Call</td>\n",
       "      <td>56491dae-bbe7-49f0-a651-b823a01103d8</td>\n",
       "      <td>11</td>\n",
       "      <td>53.82</td>\n",
       "      <td>7</td>\n",
       "      <td>23</td>\n",
       "      <td>Missouri</td>\n",
       "    </tr>\n",
       "  </tbody>\n",
       "</table>\n",
       "</div>"
      ],
      "text/plain": [
       "   week  sales_method                           customer_id  nb_sold  revenue  \\\n",
       "0     2         Email  2e72d641-95ac-497b-bbf8-4861764a7097       10      NaN   \n",
       "1     6  Email + Call  3998a98d-70f5-44f7-942e-789bb8ad2fe7       15   225.47   \n",
       "2     5          Call  d1de9884-8059-4065-b10f-86eef57e4a44       11    52.55   \n",
       "3     4         Email  78aa75a4-ffeb-4817-b1d0-2f030783c5d7       11      NaN   \n",
       "4     3         Email  10e6d446-10a5-42e5-8210-1b5438f70922        9    90.49   \n",
       "5     6          Call  6489e678-40f2-4fed-a48e-d0dff9c09205       13    65.01   \n",
       "6     4         Email  eb6bd5f1-f115-4e4b-80a6-5e67fcfbfb94       11   113.38   \n",
       "7     1         Email  047df079-071b-4380-9012-2bfe9bce45d5       10    99.94   \n",
       "8     5         Email  771586bd-7b64-40be-87df-afe884d2af9e       11   108.34   \n",
       "9     5          Call  56491dae-bbe7-49f0-a651-b823a01103d8       11    53.82   \n",
       "\n",
       "   years_as_customer  nb_site_visits          state  \n",
       "0                  0              24        Arizona  \n",
       "1                  1              28         Kansas  \n",
       "2                  6              26      Wisconsin  \n",
       "3                  3              25        Indiana  \n",
       "4                  0              28       Illinois  \n",
       "5                 10              24    Mississippi  \n",
       "6                  9              28        Georgia  \n",
       "7                  1              22       Oklahoma  \n",
       "8                 10              31  Massachusetts  \n",
       "9                  7              23       Missouri  "
      ]
     },
     "execution_count": 3,
     "metadata": {},
     "output_type": "execute_result"
    }
   ],
   "source": [
    "file_name = 'product_sales.csv'\n",
    "sales = pd.read_csv(file_name)\n",
    "\n",
    "sales.head(10)"
   ]
  },
  {
   "cell_type": "markdown",
   "id": "beedefee-4736-4170-b9dc-de8299dea9bb",
   "metadata": {},
   "source": [
    "## Data validation\n",
    "\n",
    "![Alt text](sales_schema.png \"Table Description\")"
   ]
  },
  {
   "cell_type": "code",
   "execution_count": 4,
   "id": "042fc402-df98-4921-95ac-8f8260d181a9",
   "metadata": {},
   "outputs": [
    {
     "data": {
      "text/html": [
       "<div>\n",
       "<style scoped>\n",
       "    .dataframe tbody tr th:only-of-type {\n",
       "        vertical-align: middle;\n",
       "    }\n",
       "\n",
       "    .dataframe tbody tr th {\n",
       "        vertical-align: top;\n",
       "    }\n",
       "\n",
       "    .dataframe thead th {\n",
       "        text-align: right;\n",
       "    }\n",
       "</style>\n",
       "<table border=\"1\" class=\"dataframe\">\n",
       "  <thead>\n",
       "    <tr style=\"text-align: right;\">\n",
       "      <th></th>\n",
       "      <th>week</th>\n",
       "      <th>sales_method</th>\n",
       "      <th>customer_id</th>\n",
       "      <th>nb_sold</th>\n",
       "      <th>revenue</th>\n",
       "      <th>years_as_customer</th>\n",
       "      <th>nb_site_visits</th>\n",
       "      <th>state</th>\n",
       "    </tr>\n",
       "  </thead>\n",
       "  <tbody>\n",
       "    <tr>\n",
       "      <th>0</th>\n",
       "      <td>2</td>\n",
       "      <td>Email</td>\n",
       "      <td>2e72d641-95ac-497b-bbf8-4861764a7097</td>\n",
       "      <td>10</td>\n",
       "      <td>NaN</td>\n",
       "      <td>0</td>\n",
       "      <td>24</td>\n",
       "      <td>Arizona</td>\n",
       "    </tr>\n",
       "    <tr>\n",
       "      <th>1</th>\n",
       "      <td>6</td>\n",
       "      <td>Email + Call</td>\n",
       "      <td>3998a98d-70f5-44f7-942e-789bb8ad2fe7</td>\n",
       "      <td>15</td>\n",
       "      <td>225.47</td>\n",
       "      <td>1</td>\n",
       "      <td>28</td>\n",
       "      <td>Kansas</td>\n",
       "    </tr>\n",
       "    <tr>\n",
       "      <th>2</th>\n",
       "      <td>5</td>\n",
       "      <td>Call</td>\n",
       "      <td>d1de9884-8059-4065-b10f-86eef57e4a44</td>\n",
       "      <td>11</td>\n",
       "      <td>52.55</td>\n",
       "      <td>6</td>\n",
       "      <td>26</td>\n",
       "      <td>Wisconsin</td>\n",
       "    </tr>\n",
       "    <tr>\n",
       "      <th>3</th>\n",
       "      <td>4</td>\n",
       "      <td>Email</td>\n",
       "      <td>78aa75a4-ffeb-4817-b1d0-2f030783c5d7</td>\n",
       "      <td>11</td>\n",
       "      <td>NaN</td>\n",
       "      <td>3</td>\n",
       "      <td>25</td>\n",
       "      <td>Indiana</td>\n",
       "    </tr>\n",
       "    <tr>\n",
       "      <th>4</th>\n",
       "      <td>3</td>\n",
       "      <td>Email</td>\n",
       "      <td>10e6d446-10a5-42e5-8210-1b5438f70922</td>\n",
       "      <td>9</td>\n",
       "      <td>90.49</td>\n",
       "      <td>0</td>\n",
       "      <td>28</td>\n",
       "      <td>Illinois</td>\n",
       "    </tr>\n",
       "  </tbody>\n",
       "</table>\n",
       "</div>"
      ],
      "text/plain": [
       "   week  sales_method                           customer_id  nb_sold  revenue  \\\n",
       "0     2         Email  2e72d641-95ac-497b-bbf8-4861764a7097       10      NaN   \n",
       "1     6  Email + Call  3998a98d-70f5-44f7-942e-789bb8ad2fe7       15   225.47   \n",
       "2     5          Call  d1de9884-8059-4065-b10f-86eef57e4a44       11    52.55   \n",
       "3     4         Email  78aa75a4-ffeb-4817-b1d0-2f030783c5d7       11      NaN   \n",
       "4     3         Email  10e6d446-10a5-42e5-8210-1b5438f70922        9    90.49   \n",
       "\n",
       "   years_as_customer  nb_site_visits      state  \n",
       "0                  0              24    Arizona  \n",
       "1                  1              28     Kansas  \n",
       "2                  6              26  Wisconsin  \n",
       "3                  3              25    Indiana  \n",
       "4                  0              28   Illinois  "
      ]
     },
     "execution_count": 4,
     "metadata": {},
     "output_type": "execute_result"
    }
   ],
   "source": [
    "sales_mod = sales.copy()\n",
    "sales_mod.head()"
   ]
  },
  {
   "cell_type": "code",
   "execution_count": 5,
   "id": "1d4965a1-0b2a-4e13-ac52-ef56421fcb5b",
   "metadata": {},
   "outputs": [
    {
     "data": {
      "text/html": [
       "<div>\n",
       "<style scoped>\n",
       "    .dataframe tbody tr th:only-of-type {\n",
       "        vertical-align: middle;\n",
       "    }\n",
       "\n",
       "    .dataframe tbody tr th {\n",
       "        vertical-align: top;\n",
       "    }\n",
       "\n",
       "    .dataframe thead th {\n",
       "        text-align: right;\n",
       "    }\n",
       "</style>\n",
       "<table border=\"1\" class=\"dataframe\">\n",
       "  <thead>\n",
       "    <tr style=\"text-align: right;\">\n",
       "      <th></th>\n",
       "      <th>week</th>\n",
       "      <th>nb_sold</th>\n",
       "      <th>revenue</th>\n",
       "      <th>years_as_customer</th>\n",
       "      <th>nb_site_visits</th>\n",
       "    </tr>\n",
       "  </thead>\n",
       "  <tbody>\n",
       "    <tr>\n",
       "      <th>count</th>\n",
       "      <td>15000.000000</td>\n",
       "      <td>15000.000000</td>\n",
       "      <td>13926.000000</td>\n",
       "      <td>15000.000000</td>\n",
       "      <td>15000.000000</td>\n",
       "    </tr>\n",
       "    <tr>\n",
       "      <th>mean</th>\n",
       "      <td>3.098267</td>\n",
       "      <td>10.084667</td>\n",
       "      <td>93.934943</td>\n",
       "      <td>4.965933</td>\n",
       "      <td>24.990867</td>\n",
       "    </tr>\n",
       "    <tr>\n",
       "      <th>std</th>\n",
       "      <td>1.656420</td>\n",
       "      <td>1.812213</td>\n",
       "      <td>47.435312</td>\n",
       "      <td>5.044952</td>\n",
       "      <td>3.500914</td>\n",
       "    </tr>\n",
       "    <tr>\n",
       "      <th>min</th>\n",
       "      <td>1.000000</td>\n",
       "      <td>7.000000</td>\n",
       "      <td>32.540000</td>\n",
       "      <td>0.000000</td>\n",
       "      <td>12.000000</td>\n",
       "    </tr>\n",
       "    <tr>\n",
       "      <th>25%</th>\n",
       "      <td>2.000000</td>\n",
       "      <td>9.000000</td>\n",
       "      <td>52.470000</td>\n",
       "      <td>1.000000</td>\n",
       "      <td>23.000000</td>\n",
       "    </tr>\n",
       "    <tr>\n",
       "      <th>50%</th>\n",
       "      <td>3.000000</td>\n",
       "      <td>10.000000</td>\n",
       "      <td>89.500000</td>\n",
       "      <td>3.000000</td>\n",
       "      <td>25.000000</td>\n",
       "    </tr>\n",
       "    <tr>\n",
       "      <th>75%</th>\n",
       "      <td>5.000000</td>\n",
       "      <td>11.000000</td>\n",
       "      <td>107.327500</td>\n",
       "      <td>7.000000</td>\n",
       "      <td>27.000000</td>\n",
       "    </tr>\n",
       "    <tr>\n",
       "      <th>max</th>\n",
       "      <td>6.000000</td>\n",
       "      <td>16.000000</td>\n",
       "      <td>238.320000</td>\n",
       "      <td>63.000000</td>\n",
       "      <td>41.000000</td>\n",
       "    </tr>\n",
       "  </tbody>\n",
       "</table>\n",
       "</div>"
      ],
      "text/plain": [
       "               week       nb_sold       revenue  years_as_customer  \\\n",
       "count  15000.000000  15000.000000  13926.000000       15000.000000   \n",
       "mean       3.098267     10.084667     93.934943           4.965933   \n",
       "std        1.656420      1.812213     47.435312           5.044952   \n",
       "min        1.000000      7.000000     32.540000           0.000000   \n",
       "25%        2.000000      9.000000     52.470000           1.000000   \n",
       "50%        3.000000     10.000000     89.500000           3.000000   \n",
       "75%        5.000000     11.000000    107.327500           7.000000   \n",
       "max        6.000000     16.000000    238.320000          63.000000   \n",
       "\n",
       "       nb_site_visits  \n",
       "count    15000.000000  \n",
       "mean        24.990867  \n",
       "std          3.500914  \n",
       "min         12.000000  \n",
       "25%         23.000000  \n",
       "50%         25.000000  \n",
       "75%         27.000000  \n",
       "max         41.000000  "
      ]
     },
     "execution_count": 5,
     "metadata": {},
     "output_type": "execute_result"
    }
   ],
   "source": [
    "sales_mod.describe()"
   ]
  },
  {
   "cell_type": "markdown",
   "id": "3092c5bb-ac56-44d7-ace8-a5481dd1fc51",
   "metadata": {},
   "source": [
    "Observations:\n",
    "* Maximum `years_as_customer` seems a bit too high considering that the company was founded in 1984.\n",
    "* The count of `revenue` column is only 139296 instead of 15000. This may be due to null values.\n",
    "* `revenue` mean and median is 93 and 89 respectively, while the maximum value is 238. Distribution must be looked into.\n",
    "* `nb_sold` mean and median close to each other. This may indicate distribution is not too skewed.\n",
    "* No negative values.\n"
   ]
  },
  {
   "cell_type": "code",
   "execution_count": 6,
   "id": "e2ef8167-9381-47ef-aa20-ba4e189ed4e9",
   "metadata": {},
   "outputs": [
    {
     "name": "stdout",
     "output_type": "stream",
     "text": [
      "<class 'pandas.core.frame.DataFrame'>\n",
      "RangeIndex: 15000 entries, 0 to 14999\n",
      "Data columns (total 8 columns):\n",
      " #   Column             Non-Null Count  Dtype  \n",
      "---  ------             --------------  -----  \n",
      " 0   week               15000 non-null  int64  \n",
      " 1   sales_method       15000 non-null  object \n",
      " 2   customer_id        15000 non-null  object \n",
      " 3   nb_sold            15000 non-null  int64  \n",
      " 4   revenue            13926 non-null  float64\n",
      " 5   years_as_customer  15000 non-null  int64  \n",
      " 6   nb_site_visits     15000 non-null  int64  \n",
      " 7   state              15000 non-null  object \n",
      "dtypes: float64(1), int64(4), object(3)\n",
      "memory usage: 937.6+ KB\n"
     ]
    }
   ],
   "source": [
    "sales_mod.info()"
   ]
  },
  {
   "cell_type": "markdown",
   "id": "f76ed934-413e-4a1a-8aeb-0834558cd5e7",
   "metadata": {},
   "source": [
    "Dataset has 15000 rows and 8 columns. The `revenue` column has null values."
   ]
  },
  {
   "cell_type": "markdown",
   "id": "0df1af96-8b44-4b9a-a4fe-a99125a37ff8",
   "metadata": {
    "jp-MarkdownHeadingCollapsed": true
   },
   "source": [
    "### checking week column"
   ]
  },
  {
   "cell_type": "code",
   "execution_count": 7,
   "id": "ec980789-4e6b-4ccb-b103-666896b8c96d",
   "metadata": {},
   "outputs": [
    {
     "data": {
      "text/plain": [
       "week\n",
       "1    3721\n",
       "4    2575\n",
       "5    2574\n",
       "2    2491\n",
       "3    2411\n",
       "6    1228\n",
       "Name: count, dtype: int64"
      ]
     },
     "execution_count": 7,
     "metadata": {},
     "output_type": "execute_result"
    }
   ],
   "source": [
    "# checking values in week column\n",
    "\n",
    "sales_mod['week'].value_counts()"
   ]
  },
  {
   "cell_type": "markdown",
   "id": "e7e64345-aad5-48a0-be2a-bb013758290d",
   "metadata": {
    "jp-MarkdownHeadingCollapsed": true
   },
   "source": [
    "### checking sales_method column"
   ]
  },
  {
   "cell_type": "code",
   "execution_count": 8,
   "id": "62a38a04-4945-4d59-9765-29f1a3a5f259",
   "metadata": {},
   "outputs": [
    {
     "data": {
      "text/plain": [
       "sales_method\n",
       "Email           7456\n",
       "Call            4962\n",
       "Email + Call    2549\n",
       "em + call         23\n",
       "email             10\n",
       "Name: count, dtype: int64"
      ]
     },
     "execution_count": 8,
     "metadata": {},
     "output_type": "execute_result"
    }
   ],
   "source": [
    "# checking values in sales_method column\n",
    "\n",
    "sales_mod['sales_method'].value_counts()"
   ]
  },
  {
   "cell_type": "code",
   "execution_count": 9,
   "id": "0bf7e9cf-29f8-48fc-9cbd-b2f8cb3a3a35",
   "metadata": {},
   "outputs": [
    {
     "data": {
      "text/plain": [
       "sales_method\n",
       "email           7466\n",
       "call            4962\n",
       "email + call    2572\n",
       "Name: count, dtype: int64"
      ]
     },
     "execution_count": 9,
     "metadata": {},
     "output_type": "execute_result"
    }
   ],
   "source": [
    "sales_mod['sales_method'] = sales_mod['sales_method'].str.lower()\n",
    "sales_mod['sales_method'] = sales_mod['sales_method'].replace({'em + call': 'email + call'})\n",
    "\n",
    "sales_mod['sales_method'].value_counts()"
   ]
  },
  {
   "cell_type": "markdown",
   "id": "b8d24caf-3a97-410e-baaa-66032fc445d6",
   "metadata": {
    "jp-MarkdownHeadingCollapsed": true
   },
   "source": [
    "### checking customer_id column"
   ]
  },
  {
   "cell_type": "code",
   "execution_count": 10,
   "id": "0d52e1df-c726-4535-9634-abdb2ccbe4b8",
   "metadata": {},
   "outputs": [
    {
     "data": {
      "text/plain": [
       "15000"
      ]
     },
     "execution_count": 10,
     "metadata": {},
     "output_type": "execute_result"
    }
   ],
   "source": [
    "# checking values in customer_id column. must be 15000 unique values.\n",
    "sales_mod['customer_id'].nunique()"
   ]
  },
  {
   "cell_type": "markdown",
   "id": "775d2373-524d-4a06-8ea5-e69972d3be3d",
   "metadata": {
    "jp-MarkdownHeadingCollapsed": true
   },
   "source": [
    "### checking nb_sold column"
   ]
  },
  {
   "cell_type": "code",
   "execution_count": 11,
   "id": "2d66b677-3160-4903-9933-85a3de12265a",
   "metadata": {},
   "outputs": [
    {
     "data": {
      "text/plain": [
       "nb_sold\n",
       "10    3677\n",
       "9     3535\n",
       "11    2439\n",
       "8     1941\n",
       "12    1088\n",
       "13     939\n",
       "7      698\n",
       "15     555\n",
       "14      97\n",
       "16      31\n",
       "Name: count, dtype: int64"
      ]
     },
     "execution_count": 11,
     "metadata": {},
     "output_type": "execute_result"
    }
   ],
   "source": [
    "# checking values in nb_sold column\n",
    "\n",
    "sales_mod['nb_sold'].value_counts()"
   ]
  },
  {
   "cell_type": "markdown",
   "id": "5d898184-5186-4b87-a207-5a4ed0baa520",
   "metadata": {
    "jp-MarkdownHeadingCollapsed": true
   },
   "source": [
    "### checking revenue column"
   ]
  },
  {
   "cell_type": "code",
   "execution_count": 12,
   "id": "cac43c6a-1d67-467c-b73a-52e75b29f07a",
   "metadata": {},
   "outputs": [
    {
     "data": {
      "text/html": [
       "<div>\n",
       "<style scoped>\n",
       "    .dataframe tbody tr th:only-of-type {\n",
       "        vertical-align: middle;\n",
       "    }\n",
       "\n",
       "    .dataframe tbody tr th {\n",
       "        vertical-align: top;\n",
       "    }\n",
       "\n",
       "    .dataframe thead th {\n",
       "        text-align: right;\n",
       "    }\n",
       "</style>\n",
       "<table border=\"1\" class=\"dataframe\">\n",
       "  <thead>\n",
       "    <tr style=\"text-align: right;\">\n",
       "      <th></th>\n",
       "      <th>week</th>\n",
       "      <th>sales_method</th>\n",
       "      <th>customer_id</th>\n",
       "      <th>nb_sold</th>\n",
       "      <th>revenue</th>\n",
       "      <th>years_as_customer</th>\n",
       "      <th>nb_site_visits</th>\n",
       "      <th>state</th>\n",
       "    </tr>\n",
       "  </thead>\n",
       "  <tbody>\n",
       "    <tr>\n",
       "      <th>0</th>\n",
       "      <td>2</td>\n",
       "      <td>email</td>\n",
       "      <td>2e72d641-95ac-497b-bbf8-4861764a7097</td>\n",
       "      <td>10</td>\n",
       "      <td>NaN</td>\n",
       "      <td>0</td>\n",
       "      <td>24</td>\n",
       "      <td>Arizona</td>\n",
       "    </tr>\n",
       "    <tr>\n",
       "      <th>3</th>\n",
       "      <td>4</td>\n",
       "      <td>email</td>\n",
       "      <td>78aa75a4-ffeb-4817-b1d0-2f030783c5d7</td>\n",
       "      <td>11</td>\n",
       "      <td>NaN</td>\n",
       "      <td>3</td>\n",
       "      <td>25</td>\n",
       "      <td>Indiana</td>\n",
       "    </tr>\n",
       "    <tr>\n",
       "      <th>16</th>\n",
       "      <td>2</td>\n",
       "      <td>email</td>\n",
       "      <td>0f744f79-1588-4e0c-8865-fdaecc7f6dd4</td>\n",
       "      <td>10</td>\n",
       "      <td>NaN</td>\n",
       "      <td>6</td>\n",
       "      <td>30</td>\n",
       "      <td>Pennsylvania</td>\n",
       "    </tr>\n",
       "    <tr>\n",
       "      <th>17</th>\n",
       "      <td>6</td>\n",
       "      <td>email + call</td>\n",
       "      <td>d10690f0-6f63-409f-a1da-8ab0e5388390</td>\n",
       "      <td>15</td>\n",
       "      <td>NaN</td>\n",
       "      <td>0</td>\n",
       "      <td>24</td>\n",
       "      <td>Wisconsin</td>\n",
       "    </tr>\n",
       "    <tr>\n",
       "      <th>28</th>\n",
       "      <td>5</td>\n",
       "      <td>email</td>\n",
       "      <td>f64f8fd5-e9b7-4326-9f5d-ef283f14d7ad</td>\n",
       "      <td>12</td>\n",
       "      <td>NaN</td>\n",
       "      <td>4</td>\n",
       "      <td>32</td>\n",
       "      <td>Florida</td>\n",
       "    </tr>\n",
       "    <tr>\n",
       "      <th>...</th>\n",
       "      <td>...</td>\n",
       "      <td>...</td>\n",
       "      <td>...</td>\n",
       "      <td>...</td>\n",
       "      <td>...</td>\n",
       "      <td>...</td>\n",
       "      <td>...</td>\n",
       "      <td>...</td>\n",
       "    </tr>\n",
       "    <tr>\n",
       "      <th>14951</th>\n",
       "      <td>5</td>\n",
       "      <td>call</td>\n",
       "      <td>5f1c099a-3cf2-4c32-91f0-5ec802926073</td>\n",
       "      <td>10</td>\n",
       "      <td>NaN</td>\n",
       "      <td>10</td>\n",
       "      <td>25</td>\n",
       "      <td>Virginia</td>\n",
       "    </tr>\n",
       "    <tr>\n",
       "      <th>14957</th>\n",
       "      <td>1</td>\n",
       "      <td>call</td>\n",
       "      <td>b7947946-8b0a-4031-8835-226200f260a5</td>\n",
       "      <td>7</td>\n",
       "      <td>NaN</td>\n",
       "      <td>5</td>\n",
       "      <td>23</td>\n",
       "      <td>Illinois</td>\n",
       "    </tr>\n",
       "    <tr>\n",
       "      <th>14970</th>\n",
       "      <td>4</td>\n",
       "      <td>email + call</td>\n",
       "      <td>72be03aa-25b1-4574-b358-74118cd8d81a</td>\n",
       "      <td>12</td>\n",
       "      <td>NaN</td>\n",
       "      <td>12</td>\n",
       "      <td>25</td>\n",
       "      <td>Washington</td>\n",
       "    </tr>\n",
       "    <tr>\n",
       "      <th>14992</th>\n",
       "      <td>5</td>\n",
       "      <td>email + call</td>\n",
       "      <td>cd9e6945-ae21-4bed-a6cf-f0302e6c4795</td>\n",
       "      <td>12</td>\n",
       "      <td>NaN</td>\n",
       "      <td>1</td>\n",
       "      <td>34</td>\n",
       "      <td>New York</td>\n",
       "    </tr>\n",
       "    <tr>\n",
       "      <th>14999</th>\n",
       "      <td>5</td>\n",
       "      <td>email + call</td>\n",
       "      <td>4e077235-7c17-4054-9997-7a890336a214</td>\n",
       "      <td>13</td>\n",
       "      <td>NaN</td>\n",
       "      <td>4</td>\n",
       "      <td>25</td>\n",
       "      <td>Illinois</td>\n",
       "    </tr>\n",
       "  </tbody>\n",
       "</table>\n",
       "<p>1074 rows × 8 columns</p>\n",
       "</div>"
      ],
      "text/plain": [
       "       week  sales_method                           customer_id  nb_sold  \\\n",
       "0         2         email  2e72d641-95ac-497b-bbf8-4861764a7097       10   \n",
       "3         4         email  78aa75a4-ffeb-4817-b1d0-2f030783c5d7       11   \n",
       "16        2         email  0f744f79-1588-4e0c-8865-fdaecc7f6dd4       10   \n",
       "17        6  email + call  d10690f0-6f63-409f-a1da-8ab0e5388390       15   \n",
       "28        5         email  f64f8fd5-e9b7-4326-9f5d-ef283f14d7ad       12   \n",
       "...     ...           ...                                   ...      ...   \n",
       "14951     5          call  5f1c099a-3cf2-4c32-91f0-5ec802926073       10   \n",
       "14957     1          call  b7947946-8b0a-4031-8835-226200f260a5        7   \n",
       "14970     4  email + call  72be03aa-25b1-4574-b358-74118cd8d81a       12   \n",
       "14992     5  email + call  cd9e6945-ae21-4bed-a6cf-f0302e6c4795       12   \n",
       "14999     5  email + call  4e077235-7c17-4054-9997-7a890336a214       13   \n",
       "\n",
       "       revenue  years_as_customer  nb_site_visits         state  \n",
       "0          NaN                  0              24       Arizona  \n",
       "3          NaN                  3              25       Indiana  \n",
       "16         NaN                  6              30  Pennsylvania  \n",
       "17         NaN                  0              24     Wisconsin  \n",
       "28         NaN                  4              32       Florida  \n",
       "...        ...                ...             ...           ...  \n",
       "14951      NaN                 10              25      Virginia  \n",
       "14957      NaN                  5              23      Illinois  \n",
       "14970      NaN                 12              25    Washington  \n",
       "14992      NaN                  1              34      New York  \n",
       "14999      NaN                  4              25      Illinois  \n",
       "\n",
       "[1074 rows x 8 columns]"
      ]
     },
     "execution_count": 12,
     "metadata": {},
     "output_type": "execute_result"
    }
   ],
   "source": [
    "# checking nan values in revenue column. recall we have nan values\n",
    "\n",
    "sales_mod[sales_mod['revenue'].isna()]"
   ]
  },
  {
   "cell_type": "code",
   "execution_count": 13,
   "id": "1319f493-60aa-4214-aaf8-b1f03b3371c0",
   "metadata": {},
   "outputs": [
    {
     "data": {
      "text/plain": [
       "{7: 35.09,\n",
       " 8: 64.53,\n",
       " 9: 79.17,\n",
       " 10: 91.03,\n",
       " 11: 88.44,\n",
       " 12: 170.16,\n",
       " 13: 125.85,\n",
       " 14: 91.64,\n",
       " 15: 226.83,\n",
       " 16: 234.14}"
      ]
     },
     "execution_count": 13,
     "metadata": {},
     "output_type": "execute_result"
    }
   ],
   "source": [
    "# creating a dictionary with the mean revenues by number of products sold\n",
    "median_revenue_dict = sales_mod[sales_mod['revenue'].notnull()]. \\\n",
    "                        groupby('nb_sold')['revenue'].mean().round(2).to_dict()\n",
    "\n",
    "median_revenue_dict"
   ]
  },
  {
   "cell_type": "code",
   "execution_count": 14,
   "id": "f6277f52-b9ab-4047-aded-664b88426ecf",
   "metadata": {},
   "outputs": [],
   "source": [
    "# filling nan revenue values with the calculated means\n",
    "\n",
    "sales_mod['revenue'] = sales_mod['revenue'].fillna(sales_mod['nb_sold'].map(median_revenue_dict))"
   ]
  },
  {
   "cell_type": "markdown",
   "id": "04cdf37c-7f7d-4587-ba06-d23b0da6376a",
   "metadata": {
    "jp-MarkdownHeadingCollapsed": true
   },
   "source": [
    "### checking years_as_customer column"
   ]
  },
  {
   "cell_type": "code",
   "execution_count": 15,
   "id": "33503aba-4eec-4cd1-9fd0-fb94c05ad262",
   "metadata": {},
   "outputs": [
    {
     "data": {
      "text/plain": [
       "count    15000.000000\n",
       "mean         4.965933\n",
       "std          5.044952\n",
       "min          0.000000\n",
       "25%          1.000000\n",
       "50%          3.000000\n",
       "75%          7.000000\n",
       "max         63.000000\n",
       "Name: years_as_customer, dtype: float64"
      ]
     },
     "execution_count": 15,
     "metadata": {},
     "output_type": "execute_result"
    }
   ],
   "source": [
    "# checking values in years_as_customer column.\n",
    "\n",
    "sales_mod['years_as_customer'].describe()"
   ]
  },
  {
   "cell_type": "code",
   "execution_count": 16,
   "id": "19d234c6-252d-4032-ba1b-e48c4544c49e",
   "metadata": {},
   "outputs": [
    {
     "name": "stdout",
     "output_type": "stream",
     "text": [
      "Maximum years as customer: 41\n"
     ]
    }
   ],
   "source": [
    "# getting the correct maximum years_as_customer considering that the company was established in 1984\n",
    "current_year = datetime.now().year\n",
    "max_years_as_customer = current_year - 1984\n",
    "\n",
    "print(f\"Maximum years as customer: {max_years_as_customer}\")"
   ]
  },
  {
   "cell_type": "code",
   "execution_count": 17,
   "id": "5334304b-61e3-4d57-b6f6-ac73878bf5dd",
   "metadata": {},
   "outputs": [],
   "source": [
    "# setting the correct maximum years_as_customer\n",
    "sales_mod['years_as_customer'] = sales_mod['years_as_customer'].clip(upper=max_years_as_customer)"
   ]
  },
  {
   "cell_type": "code",
   "execution_count": 18,
   "id": "da27f989-6f56-4db5-b635-d7e614af5af1",
   "metadata": {},
   "outputs": [
    {
     "data": {
      "text/plain": [
       "count    15000.000000\n",
       "mean         4.964067\n",
       "std          5.028153\n",
       "min          0.000000\n",
       "25%          1.000000\n",
       "50%          3.000000\n",
       "75%          7.000000\n",
       "max         41.000000\n",
       "Name: years_as_customer, dtype: float64"
      ]
     },
     "execution_count": 18,
     "metadata": {},
     "output_type": "execute_result"
    }
   ],
   "source": [
    "sales_mod['years_as_customer'].describe()"
   ]
  },
  {
   "cell_type": "markdown",
   "id": "f12ddd42-21b4-4644-8d30-6da408d95578",
   "metadata": {
    "jp-MarkdownHeadingCollapsed": true
   },
   "source": [
    "### checking nb_site_visits column"
   ]
  },
  {
   "cell_type": "code",
   "execution_count": 19,
   "id": "04b8ee02-4090-4809-b487-3921583830a4",
   "metadata": {},
   "outputs": [
    {
     "data": {
      "text/plain": [
       "array([24, 28, 26, 25, 22, 31, 23, 30, 21, 27, 32, 29, 20, 18, 19, 35, 16,\n",
       "       17, 33, 36, 34, 15, 37, 14, 13, 12, 41])"
      ]
     },
     "execution_count": 19,
     "metadata": {},
     "output_type": "execute_result"
    }
   ],
   "source": [
    "# checking nb_site_visits column\n",
    "\n",
    "sales_mod['nb_site_visits'].unique()"
   ]
  },
  {
   "cell_type": "markdown",
   "id": "f62ae963-00c4-4a6c-9311-9992b686e50f",
   "metadata": {
    "jp-MarkdownHeadingCollapsed": true
   },
   "source": [
    "### checking state column"
   ]
  },
  {
   "cell_type": "code",
   "execution_count": 20,
   "id": "b4a43ce8-2821-424d-9f9a-12d2dcddc0a6",
   "metadata": {},
   "outputs": [
    {
     "name": "stdout",
     "output_type": "stream",
     "text": [
      "Unique values: 50\n"
     ]
    }
   ],
   "source": [
    "# checking state column. there are 50 states in the US. unique values should not exceed 50\n",
    "\n",
    "print(f\"Unique values: {sales_mod['state'].nunique()}\")"
   ]
  },
  {
   "cell_type": "code",
   "execution_count": 21,
   "id": "04c25226-aabc-486a-813d-91d51157199d",
   "metadata": {},
   "outputs": [
    {
     "data": {
      "text/plain": [
       "array(['Arizona', 'Kansas', 'Wisconsin', 'Indiana', 'Illinois',\n",
       "       'Mississippi', 'Georgia', 'Oklahoma', 'Massachusetts', 'Missouri',\n",
       "       'Texas', 'New York', 'Maryland', 'California', 'Tennessee',\n",
       "       'Pennsylvania', 'North Dakota', 'Florida', 'Michigan',\n",
       "       'North Carolina', 'Hawaii', 'Colorado', 'Louisiana', 'Virginia',\n",
       "       'New Mexico', 'Arkansas', 'Alaska', 'Oregon', 'New Hampshire',\n",
       "       'Ohio', 'New Jersey', 'Connecticut', 'Iowa', 'Montana',\n",
       "       'Washington', 'Kentucky', 'Alabama', 'Nebraska', 'South Carolina',\n",
       "       'Minnesota', 'South Dakota', 'Delaware', 'Maine', 'Utah',\n",
       "       'West Virginia', 'Vermont', 'Rhode Island', 'Nevada', 'Idaho',\n",
       "       'Wyoming'], dtype=object)"
      ]
     },
     "execution_count": 21,
     "metadata": {},
     "output_type": "execute_result"
    }
   ],
   "source": [
    "# checking for typos\n",
    "sales_mod['state'].unique()"
   ]
  },
  {
   "cell_type": "markdown",
   "id": "eac9e96b-ab37-4be4-935a-2f3767aea33d",
   "metadata": {},
   "source": [
    "### Data validation summary\n",
    "\n",
    "* `week`: int\n",
    "    * no missing values. values are correct (integer values from 1-6). data validated. no cleaning required.\n",
    " \n",
    "* `sales_method`: object\n",
    "    *  converted to lower case for uniformity. reduced into three categories (call, email, email + call)\n",
    "\n",
    "* `customer_id`: object\n",
    "    * 15000 unique values. data validated. no cleaning required.\n",
    " \n",
    "* `nb_sold`: int\n",
    "    *  data validated. no cleaning required.\n",
    " \n",
    "      \n",
    "* `revenue`: float\n",
    "    *  nan values replaced with mean revenue grouped by the number of products sold. This was done because we have no information of the individual products sold. As there are multiple different products, the\n",
    "revenue will vary depending on which products were sold. Instead, we impute the nan values with the average revenue per number of units sold.\n",
    " \n",
    "      \n",
    "* `years_as_customer`: int\n",
    "    *  corrected the maximum years as customer considering the company was established in 1984. max value should be 41, as of year 2025.\n",
    " \n",
    "      \n",
    "* `nb_site_visits`: int\n",
    "    *  data validated. no cleaning required.\n",
    " \n",
    "      \n",
    "* `state`: object\n",
    "    *  data validated. 50 unique values. no cleaning required."
   ]
  },
  {
   "cell_type": "markdown",
   "id": "1df6f33a-3851-4093-b2ab-7820318c8194",
   "metadata": {},
   "source": [
    "## Exploratory Data Analysis\n"
   ]
  },
  {
   "cell_type": "code",
   "execution_count": 22,
   "id": "361520d5-f283-4bdf-b354-5de27a9fc790",
   "metadata": {
    "jupyter": {
     "source_hidden": true
    }
   },
   "outputs": [
    {
     "name": "stdout",
     "output_type": "stream",
     "text": [
      "sales_method\n",
      "email           7466\n",
      "call            4962\n",
      "email + call    2572\n",
      "Name: count, dtype: int64\n"
     ]
    },
    {
     "data": {
      "image/png": "[encoded data removed]",
      "text/plain": [
       "<Figure size 640x480 with 1 Axes>"
      ]
     },
     "metadata": {},
     "output_type": "display_data"
    },
    {
     "data": {
      "image/png": "[encoded data removed]",
      "text/plain": [
       "<Figure size 640x480 with 1 Axes>"
      ]
     },
     "metadata": {},
     "output_type": "display_data"
    }
   ],
   "source": [
    "# How many customers were there for each approach?\n",
    "\n",
    "print(sales_mod['sales_method'].value_counts())\n",
    "\n",
    "order= ['email', 'call', 'email + call']\n",
    "\n",
    "sns.countplot(data=sales_mod, x='sales_method', order=order)\n",
    "plt.xlabel('Sales Method')\n",
    "plt.ylabel('Number of sales')\n",
    "plt.title('Number of customer sales by sales method')\n",
    "plt.savefig('1_sales_by_method.png')\n",
    "plt.show()\n",
    "\n",
    "sales_count_by_method = sales_mod.groupby('sales_method')['sales_method'].value_counts().reset_index()\n",
    "\n",
    "plt.pie(sales_count_by_method['count'], \n",
    "        labels=sales_count_by_method['sales_method'], \n",
    "        autopct='%1.1f%%')\n",
    "plt.title('Sales Percentage by Sales Method')\n",
    "plt.savefig('2_sales_by_method_pie_chart.png')\n",
    "plt.show()"
   ]
  },
  {
   "cell_type": "markdown",
   "id": "1da70d0a-f8b5-461f-996b-f4d8add87cdc",
   "metadata": {},
   "source": [
    "From the data over the last 6 weeks, the **email method had the most number of sales** of 7000+. This was followed by the call method (approx. 5000 sales), and lastly the email + call method (approx. 2600 sales) where follow-up calls where done on emailed customers. \n",
    "\n",
    "The email method comprised approximately 50% of the total sales, while the call method contributed to 33%. The email + call method only contributed 17% of the total sales.\n",
    "\n",
    "In terms of effort, the email method has the least effort and can be automated. The call method required the most effort since the sales team had to talk to the customer for 30 minutes on average. In the email + call method, the email required little work while the call only took 10 minutes on average.\n",
    "\n",
    "In other words, the following sales order method is sorted with **increasing effort**: email, email + call, call"
   ]
  },
  {
   "cell_type": "code",
   "execution_count": 23,
   "id": "0caf47bb-9167-43d8-a541-cc92dd5da315",
   "metadata": {
    "jupyter": {
     "source_hidden": true
    }
   },
   "outputs": [
    {
     "data": {
      "image/png": "[encoded data removed]",
      "text/plain": [
       "<Figure size 640x480 with 1 Axes>"
      ]
     },
     "metadata": {},
     "output_type": "display_data"
    }
   ],
   "source": [
    "# What does the spread of the revenue look like overall? \n",
    "\n",
    "sns.histplot(data=sales_mod, x='revenue')\n",
    "plt.xlabel('Revenue (USD)')\n",
    "plt.ylabel('Number of sales')\n",
    "plt.title('Overall Revenue distribution')\n",
    "plt.savefig('3_revenue_distribution.png')\n",
    "plt.show()"
   ]
  },
  {
   "cell_type": "markdown",
   "id": "ac6a0b7f-7662-429c-b64f-bdb1e58c0baf",
   "metadata": {},
   "source": [
    "A histogram was plotted to determine the overall spread of the revenue. The distribution is right-skewed where most of the sales are in the lower end of the revenue distribution. This is typical in business sales distribution where luxury items tend to be more expensive with fewer sales on average."
   ]
  },
  {
   "cell_type": "code",
   "execution_count": 24,
   "id": "cc81d86a-732e-4760-a6e7-9e0c49816b2d",
   "metadata": {
    "jupyter": {
     "source_hidden": true
    }
   },
   "outputs": [
    {
     "data": {
      "image/png": "[encoded data removed]",
      "text/plain": [
       "<Figure size 640x480 with 1 Axes>"
      ]
     },
     "metadata": {},
     "output_type": "display_data"
    }
   ],
   "source": [
    "# What is the revenue distribution by sales method?\n",
    "\n",
    "sns.boxplot(data=sales_mod, y='sales_method', x='revenue', order=order)\n",
    "plt.xlabel('Revenue (USD)')\n",
    "plt.ylabel('Sales Method')\n",
    "plt.title('Revenue distribution by Sales method')\n",
    "plt.savefig('4_revenue_distribution_by_method.png')\n",
    "plt.show()"
   ]
  },
  {
   "cell_type": "code",
   "execution_count": 25,
   "id": "65f3ad03-2400-4e75-a238-bf7f80e22353",
   "metadata": {
    "jupyter": {
     "source_hidden": true
    }
   },
   "outputs": [
    {
     "data": {
      "text/html": [
       "<div>\n",
       "<style scoped>\n",
       "    .dataframe tbody tr th:only-of-type {\n",
       "        vertical-align: middle;\n",
       "    }\n",
       "\n",
       "    .dataframe tbody tr th {\n",
       "        vertical-align: top;\n",
       "    }\n",
       "\n",
       "    .dataframe thead th {\n",
       "        text-align: right;\n",
       "    }\n",
       "</style>\n",
       "<table border=\"1\" class=\"dataframe\">\n",
       "  <thead>\n",
       "    <tr style=\"text-align: right;\">\n",
       "      <th></th>\n",
       "      <th>count</th>\n",
       "      <th>mean</th>\n",
       "      <th>std</th>\n",
       "      <th>min</th>\n",
       "      <th>25%</th>\n",
       "      <th>50%</th>\n",
       "      <th>75%</th>\n",
       "      <th>max</th>\n",
       "    </tr>\n",
       "    <tr>\n",
       "      <th>sales_method</th>\n",
       "      <th></th>\n",
       "      <th></th>\n",
       "      <th></th>\n",
       "      <th></th>\n",
       "      <th></th>\n",
       "      <th></th>\n",
       "      <th></th>\n",
       "      <th></th>\n",
       "    </tr>\n",
       "  </thead>\n",
       "  <tbody>\n",
       "    <tr>\n",
       "      <th>call</th>\n",
       "      <td>4962.0</td>\n",
       "      <td>48.861709</td>\n",
       "      <td>11.529866</td>\n",
       "      <td>32.54</td>\n",
       "      <td>41.56</td>\n",
       "      <td>49.850</td>\n",
       "      <td>52.940</td>\n",
       "      <td>170.16</td>\n",
       "    </tr>\n",
       "    <tr>\n",
       "      <th>email</th>\n",
       "      <td>7466.0</td>\n",
       "      <td>96.333575</td>\n",
       "      <td>12.041346</td>\n",
       "      <td>64.53</td>\n",
       "      <td>87.52</td>\n",
       "      <td>94.435</td>\n",
       "      <td>104.600</td>\n",
       "      <td>170.16</td>\n",
       "    </tr>\n",
       "    <tr>\n",
       "      <th>email + call</th>\n",
       "      <td>2572.0</td>\n",
       "      <td>180.297236</td>\n",
       "      <td>34.154786</td>\n",
       "      <td>64.53</td>\n",
       "      <td>154.17</td>\n",
       "      <td>183.700</td>\n",
       "      <td>191.275</td>\n",
       "      <td>238.32</td>\n",
       "    </tr>\n",
       "  </tbody>\n",
       "</table>\n",
       "</div>"
      ],
      "text/plain": [
       "               count        mean        std    min     25%      50%      75%  \\\n",
       "sales_method                                                                   \n",
       "call          4962.0   48.861709  11.529866  32.54   41.56   49.850   52.940   \n",
       "email         7466.0   96.333575  12.041346  64.53   87.52   94.435  104.600   \n",
       "email + call  2572.0  180.297236  34.154786  64.53  154.17  183.700  191.275   \n",
       "\n",
       "                 max  \n",
       "sales_method          \n",
       "call          170.16  \n",
       "email         170.16  \n",
       "email + call  238.32  "
      ]
     },
     "execution_count": 25,
     "metadata": {},
     "output_type": "execute_result"
    }
   ],
   "source": [
    "sales_mod.groupby('sales_method')['revenue'].describe()"
   ]
  },
  {
   "cell_type": "markdown",
   "id": "94fc5d14-e460-4aef-83c6-946b7db3bcb3",
   "metadata": {},
   "source": [
    "The boxplot above shows the spread of revenue across the three sales method. The email + call method had the highest median revenue (183 USD). This was followed by the email method (94 USD), and lastly the call method (50 USD)\n",
    "\n",
    "In terms of the interquantile range (IQR), the boxplot shows that the email + call method had the largest spread. This was followed by the email method, and lastly the call method.\n",
    "\n",
    "Although the call method required the most effort, it generated the least median and average revenue, making it less efficient. The email method provides a good balance between effort required and generated revenue.\n",
    "\n",
    "Results imply that conducting follow-up calls after initially contacting customers via email generally produces greater revenue. It is also worth considering that the email + call method requires more effort than email method, and less effort than call method. \n",
    "\n"
   ]
  },
  {
   "cell_type": "code",
   "execution_count": 26,
   "id": "a2f74c7c-61d7-4a9a-8808-74628380819a",
   "metadata": {},
   "outputs": [
    {
     "data": {
      "image/png": "[encoded data removed]",
      "text/plain": [
       "<Figure size 640x480 with 1 Axes>"
      ]
     },
     "metadata": {},
     "output_type": "display_data"
    }
   ],
   "source": [
    "# Was there any difference in revenue over time for each of the methods?\n",
    "\n",
    "sns.lineplot(data=sales_mod, x='week', y='revenue', hue='sales_method', hue_order=order)\n",
    "plt.xlabel('Weeks since Method Implementation')\n",
    "plt.ylabel('Revenue (USD)')\n",
    "plt.title('Average Revenue over Time by Sales Method')\n",
    "plt.savefig('5_average_revenue_over_time.png')\n",
    "plt.show()"
   ]
  },
  {
   "cell_type": "markdown",
   "id": "899c47c8-0e4d-4341-a670-2ec2d5805ea4",
   "metadata": {},
   "source": [
    "The figure above shows a line plot of the average revenue over time by sales method. The graph shows that the three methods have a similar upward trend. \n",
    "\n",
    "It can be observed through visual inspection that the email + call method had the greatest positive slope, implying fastest revenue growth among the three methods. The call and email methods had similar slope values, indicating similar revenue growth."
   ]
  },
  {
   "cell_type": "code",
   "execution_count": 27,
   "id": "66269de7-8a49-4e3d-98f3-55e33c63d795",
   "metadata": {},
   "outputs": [
    {
     "data": {
      "image/png": "[encoded data removed]",
      "text/plain": [
       "<Figure size 640x480 with 1 Axes>"
      ]
     },
     "metadata": {},
     "output_type": "display_data"
    },
    {
     "data": {
      "image/png": "[encoded data removed]",
      "text/plain": [
       "<Figure size 640x480 with 1 Axes>"
      ]
     },
     "metadata": {},
     "output_type": "display_data"
    }
   ],
   "source": [
    "# Based on the data, which method would you recommend we continue to use?\n",
    "# Some of these methods take more time from the team so they may not be the best for us to use if the results are similar.\n",
    "\n",
    "sns.boxplot(data=sales_mod, y='sales_method', x='nb_site_visits', order=order)\n",
    "plt.xlabel('Number of Site Visits')\n",
    "plt.ylabel('Sales Method')\n",
    "plt.title('Site Visits by Sales Method (6-month period)')\n",
    "plt.savefig('6_site_visits_distribution.png')\n",
    "plt.show()\n",
    "\n",
    "sns.boxplot(data=sales_mod, y='sales_method', x='years_as_customer', order=order)\n",
    "plt.xlabel('Customer Longevity (Years)')\n",
    "plt.ylabel('Sales Method')\n",
    "plt.title('Customer Longevity Distribution by Sales Method')\n",
    "plt.savefig('7_customer_longevity_distribution.png')\n",
    "plt.show()"
   ]
  },
  {
   "cell_type": "code",
   "execution_count": 28,
   "id": "f86f1248-893a-4fc4-882e-82d1727d0950",
   "metadata": {},
   "outputs": [
    {
     "name": "stdout",
     "output_type": "stream",
     "text": [
      "         Source  ddof1  ddof2           F          p-unc       np2\n",
      "0  sales_method      2  14997  438.985279  5.284877e-186  0.055305 \n",
      "\n",
      "Is the p-value less than the critical value? True\n"
     ]
    }
   ],
   "source": [
    "# performing one-way ANOVA test on the average site visits by sales method\n",
    "\n",
    "alpha = 0.05\n",
    "\n",
    "anova_site_visits = pg.anova(data=sales_mod, dv='nb_site_visits', between='sales_method')\n",
    "print(anova_site_visits, '\\n')\n",
    "\n",
    "print(\"Is the p-value less than the critical value?\", anova_site_visits['p-unc'][0] < alpha)"
   ]
  },
  {
   "cell_type": "markdown",
   "id": "2fb358c5-fb58-4fbb-80b7-87a93d78b6e8",
   "metadata": {},
   "source": [
    "* **Null hypothesis**: There is no difference between the mean site visits by sales method (email, call, email + call)\n",
    "* **Alternative hypothesis**: There is a significant difference between the mean site visits by sales method (email, call, email + call)\n",
    "\n",
    "The p-value is less than the critical value. Therefore, we reject the null hypothesis.\n",
    "\n",
    "**Conclusion**: There is at least one significantly different mean site visit by sales method."
   ]
  },
  {
   "cell_type": "code",
   "execution_count": 29,
   "id": "b249d338-928f-4583-8f7e-2f68a0a091ea",
   "metadata": {},
   "outputs": [
    {
     "name": "stdout",
     "output_type": "stream",
     "text": [
      "         Source  ddof1  ddof2          F         p-unc       np2\n",
      "0  sales_method      2  14997  15.066406  2.906080e-07  0.002005 \n",
      "\n",
      "Is the p-value less than the critical value? True\n"
     ]
    }
   ],
   "source": [
    "# performing one-way ANOVA test on the average years as customer by sales method\n",
    "\n",
    "alpha = 0.05\n",
    "\n",
    "anova_years_as_customer = pg.anova(data=sales_mod, dv='years_as_customer', between='sales_method')\n",
    "print(anova_years_as_customer, '\\n')\n",
    "\n",
    "print(\"Is the p-value less than the critical value?\", anova_years_as_customer['p-unc'][0] < alpha)"
   ]
  },
  {
   "cell_type": "markdown",
   "id": "ca67f6d6-9385-4015-b7db-92dbc6336468",
   "metadata": {},
   "source": [
    "* **Null hypothesis**: There is no difference between the mean customer longevity by sales method (email, call, email + call)\n",
    "* **Alternative hypothesis**: There is a significant difference between the mean customer longevity by sales method (email, call, email + call)\n",
    "\n",
    "The p-value is less than the critical value. Therefore, we reject the null hypothesis.\n",
    "\n",
    "**Conclusion**: There is at least one significantly different mean customer longevity by sales method."
   ]
  },
  {
   "cell_type": "markdown",
   "id": "c0fbc71f-8cc3-49cf-9311-5ad8d3c17f09",
   "metadata": {},
   "source": [
    "### Which sales method is the most efficient in terms of revenue and effort required?\n",
    "\n",
    "Given the results of our analysis, the email + call method generated the highest amount of revenue while requiring the second least amount of effort from the sales team. In other words, **email + call is the most efficient method** in terms of revenue and effort required. Furthermore, the email method also generated good revenues while requiring the least effort. This makes the email method a good second choice method in terms of revenue-effort efficiency. Since the email method has the least required effort and can be automated, it can reach to a large number of customers which is also beneficial for the company. \n",
    "\n",
    "On the other hand, the call method generated the least amount of revenue while requiring the most amount of effort, making it extremely inefficient. \n",
    "\n",
    "In summary:\n",
    "* **Email + Call** → Generated the highest revenue while requiring the second least effort, making it the most efficient method overall.\n",
    "    * If we plan to **maximize revenue**, we can focus on implementing the **email + call** method.\n",
    "* **Email** → Produced good revenues with the least effort (and scalable through automation), making it the next best choice in terms of revenue-effort efficiency.\n",
    "    * If we plan to **maximize customer reach**, we can focus on implementing the **email** method.\n",
    "* **Call** → Least efficient sales method."
   ]
  },
  {
   "cell_type": "markdown",
   "id": "0be7077a-3c53-45de-8e97-1d9cd02b8ffe",
   "metadata": {
    "jp-MarkdownHeadingCollapsed": true
   },
   "source": [
    "## Business Metrics\n",
    "\n",
    "To monitor the effectiveness of each sales method, I propose using the average revenue per customer segemented by sales method. This metric will give us a good understanding of customer behavior and value with respect to the sales method implemented. The average revenue per customer can be updated weekly, monthly, etc. to measure the performance of the sales methods.\n",
    "\n",
    "From the 6-week dataset, the baseline value for the average revenue per customer is the following:\n",
    "\n",
    "| Sales Method | Average Revenue per Customer (USD) |\n",
    "|---:|:---:|\n",
    "| call | 48.86 |\n",
    "| email | 96.33 |\n",
    "| email + call | 180.30 |\n",
    "\n",
    "Therefore, if this number is increasing for the next 6 weeks, it indicates a very good sign that the proposed sales method is working."
   ]
  },
  {
   "cell_type": "code",
   "execution_count": 30,
   "id": "6adbb9eb-6040-4743-93d8-51dcbb49cf7c",
   "metadata": {},
   "outputs": [
    {
     "data": {
      "text/html": [
       "<div>\n",
       "<style scoped>\n",
       "    .dataframe tbody tr th:only-of-type {\n",
       "        vertical-align: middle;\n",
       "    }\n",
       "\n",
       "    .dataframe tbody tr th {\n",
       "        vertical-align: top;\n",
       "    }\n",
       "\n",
       "    .dataframe thead th {\n",
       "        text-align: right;\n",
       "    }\n",
       "</style>\n",
       "<table border=\"1\" class=\"dataframe\">\n",
       "  <thead>\n",
       "    <tr style=\"text-align: right;\">\n",
       "      <th></th>\n",
       "      <th>sales_method</th>\n",
       "      <th>total_revenue</th>\n",
       "      <th>total_customer</th>\n",
       "      <th>avg_revenue_per_customer (USD)</th>\n",
       "    </tr>\n",
       "  </thead>\n",
       "  <tbody>\n",
       "    <tr>\n",
       "      <th>0</th>\n",
       "      <td>call</td>\n",
       "      <td>242451.80</td>\n",
       "      <td>4962</td>\n",
       "      <td>48.86</td>\n",
       "    </tr>\n",
       "    <tr>\n",
       "      <th>1</th>\n",
       "      <td>email</td>\n",
       "      <td>719226.47</td>\n",
       "      <td>7466</td>\n",
       "      <td>96.33</td>\n",
       "    </tr>\n",
       "    <tr>\n",
       "      <th>2</th>\n",
       "      <td>email + call</td>\n",
       "      <td>463724.49</td>\n",
       "      <td>2572</td>\n",
       "      <td>180.30</td>\n",
       "    </tr>\n",
       "  </tbody>\n",
       "</table>\n",
       "</div>"
      ],
      "text/plain": [
       "   sales_method  total_revenue  total_customer  avg_revenue_per_customer (USD)\n",
       "0          call      242451.80            4962                           48.86\n",
       "1         email      719226.47            7466                           96.33\n",
       "2  email + call      463724.49            2572                          180.30"
      ]
     },
     "execution_count": 30,
     "metadata": {},
     "output_type": "execute_result"
    }
   ],
   "source": [
    "sales_summary = sales_mod.groupby('sales_method').agg({'revenue':'sum', 'customer_id':'count'}).reset_index()\n",
    "sales_summary.columns = ['sales_method', 'total_revenue', 'total_customer']\n",
    "sales_summary['avg_revenue_per_customer (USD)'] = (sales_summary['total_revenue'] / sales_summary['total_customer']).round(2)\n",
    "sales_summary"
   ]
  },
  {
   "cell_type": "markdown",
   "id": "3471be7c-da83-4f83-aacd-f7110112b637",
   "metadata": {},
   "source": [
    "## Summary and Recommendations\n",
    "\n",
    "The analysis reveals that the **email + call method** generates the highest average revenue per customer, making it the most efficient strategy in maximizing revenue and minimizing effort. I recommend focusing this method implementation to maximize pure financial return.\n",
    "\n",
    "The **email method** showed a good second choice method because it generates good revenues with the least amount of effort. I recommend this sales method when the priority is to maximize customer reach.\n",
    "\n",
    "Over the following weeks, I recommend using key metrics such as the **average revenue per customer** to monitor the performance of the implemented sales method.\n",
    "\n",
    "It would be recommended to acquire individual product information (i.e. price, quantity, discounts) as these may provide additional insights and further strengthen the analysis."
   ]
  }
 ],
 "metadata": {
  "kernelspec": {
   "display_name": "Python 3 (ipykernel)",
   "language": "python",
   "name": "python3"
  },
  "language_info": {
   "codemirror_mode": {
    "name": "ipython",
    "version": 3
   },
   "file_extension": ".py",
   "mimetype": "text/x-python",
   "name": "python",
   "nbconvert_exporter": "python",
   "pygments_lexer": "ipython3",
   "version": "3.12.10"
  }
 },
 "nbformat": 4,
 "nbformat_minor": 5
}
